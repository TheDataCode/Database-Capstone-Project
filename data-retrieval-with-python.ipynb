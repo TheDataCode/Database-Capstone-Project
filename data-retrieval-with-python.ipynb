{
 "cells": [
  {
   "cell_type": "code",
   "execution_count": 215,
   "id": "09a79e94",
   "metadata": {},
   "outputs": [],
   "source": [
    "import pandas as pd\n",
    "import warnings\n",
    "warnings.filterwarnings(\"ignore\", message=\"pandas only supports SQLAlchemy connectable\")\n",
    "\n",
    "# Import MySQL Connector/Python \n",
    "\n",
    "import mysql.connector as connector\n",
    "\n",
    "connection =connector.connect(user='admin',password=\"reason123\",db = 'lemon_restaurant')"
   ]
  },
  {
   "cell_type": "code",
   "execution_count": 216,
   "id": "5f9eef91",
   "metadata": {},
   "outputs": [],
   "source": [
    "#create connection to the server\n",
    "cursor = connection.cursor()"
   ]
  },
  {
   "cell_type": "code",
   "execution_count": 217,
   "id": "28d3dcad",
   "metadata": {},
   "outputs": [
    {
     "name": "stdout",
     "output_type": "stream",
     "text": [
      "('booking',)\n",
      "('customer',)\n",
      "('delivery',)\n",
      "('itemorder',)\n",
      "('menu',)\n",
      "('ordersview',)\n",
      "('payment',)\n",
      "('staff',)\n"
     ]
    }
   ],
   "source": [
    "#show the tables in the database\n",
    "tables = 'SHOW TABLES'\n",
    "cursor.execute(tables)\n",
    "for table in cursor:\n",
    "    print(table)"
   ]
  },
  {
   "cell_type": "markdown",
   "id": "9fe66b4e",
   "metadata": {},
   "source": [
    "#### Query the database to return Full name, Contact details of customers whose total cost is greater than 130"
   ]
  },
  {
   "cell_type": "code",
   "execution_count": 218,
   "id": "b75c19b7",
   "metadata": {},
   "outputs": [],
   "source": [
    "cost_greater_130 = \"\"\"SELECT CONCAT(c.firstName,' ',c.lastName) AS \"Full Name\", c.phoneNumber AS \"Phone Number\",\n",
    "                             c.email AS Email,i.totalCost AS \"Total Cost\"\n",
    "                    FROM customer c\n",
    "                    JOIN itemorder i\n",
    "                    ON c.customerID = i.customerID\n",
    "                    WHERE totalCost > 130 \"\"\""
   ]
  },
  {
   "cell_type": "code",
   "execution_count": 219,
   "id": "17a1d9b0",
   "metadata": {},
   "outputs": [
    {
     "data": {
      "text/html": [
       "<div>\n",
       "<style scoped>\n",
       "    .dataframe tbody tr th:only-of-type {\n",
       "        vertical-align: middle;\n",
       "    }\n",
       "\n",
       "    .dataframe tbody tr th {\n",
       "        vertical-align: top;\n",
       "    }\n",
       "\n",
       "    .dataframe thead th {\n",
       "        text-align: right;\n",
       "    }\n",
       "</style>\n",
       "<table border=\"1\" class=\"dataframe\">\n",
       "  <thead>\n",
       "    <tr style=\"text-align: right;\">\n",
       "      <th></th>\n",
       "      <th>Full Name</th>\n",
       "      <th>Phone Number</th>\n",
       "      <th>Email</th>\n",
       "      <th>Total Cost</th>\n",
       "    </tr>\n",
       "  </thead>\n",
       "  <tbody>\n",
       "    <tr>\n",
       "      <th>0</th>\n",
       "      <td>Alex Seth</td>\n",
       "      <td>O5588889</td>\n",
       "      <td>alseth@mail.com</td>\n",
       "      <td>300.00</td>\n",
       "    </tr>\n",
       "    <tr>\n",
       "      <th>1</th>\n",
       "      <td>Sam Juls</td>\n",
       "      <td>O5577889</td>\n",
       "      <td>samjuls@mail.com</td>\n",
       "      <td>150.00</td>\n",
       "    </tr>\n",
       "    <tr>\n",
       "      <th>2</th>\n",
       "      <td>Nita Dan</td>\n",
       "      <td>O6588889</td>\n",
       "      <td>nidan@mail.com</td>\n",
       "      <td>540.55</td>\n",
       "    </tr>\n",
       "    <tr>\n",
       "      <th>3</th>\n",
       "      <td>Remi Titus</td>\n",
       "      <td>05924532</td>\n",
       "      <td>rtitus@gmail.com</td>\n",
       "      <td>450.55</td>\n",
       "    </tr>\n",
       "    <tr>\n",
       "      <th>4</th>\n",
       "      <td>Ruth Rick</td>\n",
       "      <td>05649867</td>\n",
       "      <td>rrick@mail.com</td>\n",
       "      <td>450.55</td>\n",
       "    </tr>\n",
       "    <tr>\n",
       "      <th>5</th>\n",
       "      <td>Ben Glover</td>\n",
       "      <td>067924532</td>\n",
       "      <td>bGlover@gmail.com</td>\n",
       "      <td>480.00</td>\n",
       "    </tr>\n",
       "    <tr>\n",
       "      <th>6</th>\n",
       "      <td>Lisa James</td>\n",
       "      <td>079245892</td>\n",
       "      <td>ljames@gmail.com</td>\n",
       "      <td>520.00</td>\n",
       "    </tr>\n",
       "  </tbody>\n",
       "</table>\n",
       "</div>"
      ],
      "text/plain": [
       "    Full Name Phone Number              Email  Total Cost\n",
       "0   Alex Seth     O5588889    alseth@mail.com      300.00\n",
       "1    Sam Juls     O5577889   samjuls@mail.com      150.00\n",
       "2    Nita Dan     O6588889     nidan@mail.com      540.55\n",
       "3  Remi Titus     05924532   rtitus@gmail.com      450.55\n",
       "4   Ruth Rick     05649867     rrick@mail.com      450.55\n",
       "5  Ben Glover    067924532  bGlover@gmail.com      480.00\n",
       "6  Lisa James    079245892   ljames@gmail.com      520.00"
      ]
     },
     "execution_count": 219,
     "metadata": {},
     "output_type": "execute_result"
    }
   ],
   "source": [
    "cost_greater_130_df = pd.read_sql(cost_greater_130,con = connection)\n",
    "cost_greater_130_df"
   ]
  },
  {
   "cell_type": "markdown",
   "id": "105de39d",
   "metadata": {},
   "source": [
    "#### NB: Use this code if you do not want to read result into a dataframe"
   ]
  },
  {
   "cell_type": "raw",
   "id": "d071c0ee",
   "metadata": {},
   "source": [
    "\n",
    "cursor.execute(query)                                                                                                     \n",
    "results = cursor.fetchall()                                                                                                    \n",
    "columns = cursor.column_names\n",
    "print(columns)                                                                                                                 \n",
    "for result in results:                                                                                                        \n",
    "     print(result)"
   ]
  },
  {
   "cell_type": "markdown",
   "id": "67e09362",
   "metadata": {},
   "source": [
    "#### Retrieve  all menu id with main meal that contributed to costs more than 150"
   ]
  },
  {
   "cell_type": "code",
   "execution_count": 220,
   "id": "8660d973",
   "metadata": {},
   "outputs": [],
   "source": [
    "meals_greater_150 = \"\"\"SELECT m.menuID,m.main AS 'main meal',i.totalCost\n",
    "                       FROM menu m\n",
    "                       JOIN itemorder i\n",
    "                       ON m.menuID = i.menuID \n",
    "                       WHERE i.totalCost > 150\"\"\"\n",
    "            "
   ]
  },
  {
   "cell_type": "code",
   "execution_count": 221,
   "id": "1f70df17",
   "metadata": {},
   "outputs": [
    {
     "data": {
      "text/html": [
       "<div>\n",
       "<style scoped>\n",
       "    .dataframe tbody tr th:only-of-type {\n",
       "        vertical-align: middle;\n",
       "    }\n",
       "\n",
       "    .dataframe tbody tr th {\n",
       "        vertical-align: top;\n",
       "    }\n",
       "\n",
       "    .dataframe thead th {\n",
       "        text-align: right;\n",
       "    }\n",
       "</style>\n",
       "<table border=\"1\" class=\"dataframe\">\n",
       "  <thead>\n",
       "    <tr style=\"text-align: right;\">\n",
       "      <th></th>\n",
       "      <th>menuID</th>\n",
       "      <th>main meal</th>\n",
       "      <th>totalCost</th>\n",
       "    </tr>\n",
       "  </thead>\n",
       "  <tbody>\n",
       "    <tr>\n",
       "      <th>0</th>\n",
       "      <td>1</td>\n",
       "      <td>Spaghetti Carbonara</td>\n",
       "      <td>300.00</td>\n",
       "    </tr>\n",
       "    <tr>\n",
       "      <th>1</th>\n",
       "      <td>4</td>\n",
       "      <td>Chicken Tikka Masala</td>\n",
       "      <td>540.55</td>\n",
       "    </tr>\n",
       "    <tr>\n",
       "      <th>2</th>\n",
       "      <td>5</td>\n",
       "      <td>Chicken Tikka Masala</td>\n",
       "      <td>450.55</td>\n",
       "    </tr>\n",
       "    <tr>\n",
       "      <th>3</th>\n",
       "      <td>6</td>\n",
       "      <td>Chicken Tikka Masala</td>\n",
       "      <td>450.55</td>\n",
       "    </tr>\n",
       "    <tr>\n",
       "      <th>4</th>\n",
       "      <td>7</td>\n",
       "      <td>Chicken Tikka Masala</td>\n",
       "      <td>480.00</td>\n",
       "    </tr>\n",
       "    <tr>\n",
       "      <th>5</th>\n",
       "      <td>8</td>\n",
       "      <td>Jollof</td>\n",
       "      <td>520.00</td>\n",
       "    </tr>\n",
       "  </tbody>\n",
       "</table>\n",
       "</div>"
      ],
      "text/plain": [
       "   menuID             main meal  totalCost\n",
       "0       1   Spaghetti Carbonara     300.00\n",
       "1       4  Chicken Tikka Masala     540.55\n",
       "2       5  Chicken Tikka Masala     450.55\n",
       "3       6  Chicken Tikka Masala     450.55\n",
       "4       7  Chicken Tikka Masala     480.00\n",
       "5       8                Jollof     520.00"
      ]
     },
     "execution_count": 221,
     "metadata": {},
     "output_type": "execute_result"
    }
   ],
   "source": [
    "meals_greater_150_df = pd.read_sql(meals_greater_150,con = connection)\n",
    "meals_greater_150_df"
   ]
  },
  {
   "cell_type": "markdown",
   "id": "a101a255",
   "metadata": {},
   "source": [
    "#### Retrieve customers that have ordered items but haven't booked a table yet with the restaurant. Show the number of Orders for each customer"
   ]
  },
  {
   "cell_type": "code",
   "execution_count": 222,
   "id": "17ae6aab",
   "metadata": {},
   "outputs": [],
   "source": [
    "no_table_booking = \"\"\"\n",
    "                  SELECT DISTINCT c.firstName,c.lastName, COALESCE(b.tableNumber,'No table booked') AS 'tableNumber',\n",
    "                     Count(*) OVER(PARTITION BY c.customerID) AS 'Number of orders'\n",
    "                  FROM customer c\n",
    "                  INNER JOIN itemorder i\n",
    "                  ON c.customerID = i.orderID\n",
    "                  LEFT JOIN booking b\n",
    "                  ON b.customerID = c.customerID\n",
    "                  WHERE b.customerID IS NULL\n",
    "                  \"\"\""
   ]
  },
  {
   "cell_type": "code",
   "execution_count": 223,
   "id": "fb79592b",
   "metadata": {},
   "outputs": [
    {
     "data": {
      "text/html": [
       "<div>\n",
       "<style scoped>\n",
       "    .dataframe tbody tr th:only-of-type {\n",
       "        vertical-align: middle;\n",
       "    }\n",
       "\n",
       "    .dataframe tbody tr th {\n",
       "        vertical-align: top;\n",
       "    }\n",
       "\n",
       "    .dataframe thead th {\n",
       "        text-align: right;\n",
       "    }\n",
       "</style>\n",
       "<table border=\"1\" class=\"dataframe\">\n",
       "  <thead>\n",
       "    <tr style=\"text-align: right;\">\n",
       "      <th></th>\n",
       "      <th>firstName</th>\n",
       "      <th>lastName</th>\n",
       "      <th>tableNumber</th>\n",
       "      <th>Number of orders</th>\n",
       "    </tr>\n",
       "  </thead>\n",
       "  <tbody>\n",
       "    <tr>\n",
       "      <th>0</th>\n",
       "      <td>Ruth</td>\n",
       "      <td>Rick</td>\n",
       "      <td>No table booked</td>\n",
       "      <td>1</td>\n",
       "    </tr>\n",
       "    <tr>\n",
       "      <th>1</th>\n",
       "      <td>Ben</td>\n",
       "      <td>Glover</td>\n",
       "      <td>No table booked</td>\n",
       "      <td>1</td>\n",
       "    </tr>\n",
       "    <tr>\n",
       "      <th>2</th>\n",
       "      <td>Lisa</td>\n",
       "      <td>James</td>\n",
       "      <td>No table booked</td>\n",
       "      <td>1</td>\n",
       "    </tr>\n",
       "  </tbody>\n",
       "</table>\n",
       "</div>"
      ],
      "text/plain": [
       "  firstName lastName      tableNumber  Number of orders\n",
       "0      Ruth     Rick  No table booked                 1\n",
       "1       Ben   Glover  No table booked                 1\n",
       "2      Lisa    James  No table booked                 1"
      ]
     },
     "execution_count": 223,
     "metadata": {},
     "output_type": "execute_result"
    }
   ],
   "source": [
    "no_booking_df = pd.read_sql(no_table_booking, con = connection)\n",
    "no_booking_df"
   ]
  },
  {
   "cell_type": "code",
   "execution_count": 224,
   "id": "9e1cbcad",
   "metadata": {},
   "outputs": [],
   "source": [
    "#close the connection\n",
    "connection.close()"
   ]
  }
 ],
 "metadata": {
  "kernelspec": {
   "display_name": "Python 3 (ipykernel)",
   "language": "python",
   "name": "python3"
  },
  "language_info": {
   "codemirror_mode": {
    "name": "ipython",
    "version": 3
   },
   "file_extension": ".py",
   "mimetype": "text/x-python",
   "name": "python",
   "nbconvert_exporter": "python",
   "pygments_lexer": "ipython3",
   "version": "3.11.1"
  }
 },
 "nbformat": 4,
 "nbformat_minor": 5
}
